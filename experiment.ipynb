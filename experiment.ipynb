{
  "cells": [
    {
      "cell_type": "code",
      "execution_count": 1,
      "metadata": {
        "id": "e33r_bl9BXp4"
      },
      "outputs": [],
      "source": [
        "import numpy as np\n",
        "import pandas as pd\n",
        "import seaborn as sns\n",
        "import warnings\n",
        "from joblib import Parallel, delayed\n",
        "from sklearn.exceptions import DataConversionWarning\n",
        "import matplotlib.pyplot as plt\n",
        "from sklearn.model_selection import GridSearchCV, PredefinedSplit\n",
        "from xgboost import XGBClassifier\n",
        "from sklearn.ensemble import RandomForestClassifier, AdaBoostClassifier\n",
        "from sklearn.neighbors import KNeighborsClassifier\n",
        "from sklearn.svm import SVC\n",
        "from sklearn.preprocessing import StandardScaler\n",
        "from sklearn.model_selection import RandomizedSearchCV\n",
        "from sklearn.feature_selection import SelectKBest, f_classif\n",
        "from sklearn.metrics import f1_score, accuracy_score"
      ]
    },
    {
      "cell_type": "code",
      "execution_count": 2,
      "metadata": {
        "id": "srKBPvNCBdSh"
      },
      "outputs": [],
      "source": [
        "file_path = \"ass2.pickle\"\n",
        "data = pd.read_pickle(file_path)"
      ]
    },
    {
      "attachments": {},
      "cell_type": "markdown",
      "metadata": {
        "id": "Butz7s70QOLg"
      },
      "source": [
        "# Data Analysis"
      ]
    },
    {
      "cell_type": "code",
      "execution_count": 3,
      "metadata": {
        "colab": {
          "base_uri": "https://localhost:8080/"
        },
        "id": "lLBO3l-HB21p",
        "outputId": "25ad4414-3d0d-431c-b41f-886af70621b0"
      },
      "outputs": [
        {
          "name": "stdout",
          "output_type": "stream",
          "text": [
            "size of train: 40533\n",
            "shape of train: (40533, 43)\n",
            "size of dev: 13512\n",
            "shape of dev: (13512, 43)\n",
            "size of test: 13512\n",
            "shape of test: (13512, 43)\n"
          ]
        }
      ],
      "source": [
        "print(f\"size of train: {len(data['train'])}\")\n",
        "print(f\"shape of train: {data['train'].shape}\")\n",
        "\n",
        "print(f\"size of dev: {len(data['dev'])}\")\n",
        "print(f\"shape of dev: {data['dev'].shape}\")\n",
        "\n",
        "print(f\"size of test: {len(data['test'])}\")\n",
        "print(f\"shape of test: {data['test'].shape}\")"
      ]
    },
    {
      "cell_type": "code",
      "execution_count": 24,
      "metadata": {
        "colab": {
          "base_uri": "https://localhost:8080/",
          "height": 1000
        },
        "id": "BY-Xez9q-lU8",
        "outputId": "0def3de3-65b5-498d-b4ff-da8a79d9d930"
      },
      "outputs": [
        {
          "name": "stdout",
          "output_type": "stream",
          "text": [
            "The unique values are [0 1 2]\n",
            "\n",
            "Balanced/Imbalanced check:\n",
            "Target 0- there are 3917 samples\n",
            "Target 1- there are 9882 samples\n",
            "Target 2- there are 26734 samples\n",
            "\n",
            "The scales of the features are: \n",
            "\n"
          ]
        },
        {
          "data": {
            "text/plain": [
              "f0        0.834109\n",
              "f1        0.779471\n",
              "f2        0.612657\n",
              "f3        0.448263\n",
              "f4        0.290031\n",
              "f5        0.119114\n",
              "f6        0.838151\n",
              "f7        0.793958\n",
              "f8        0.627516\n",
              "f9        0.457701\n",
              "f10       0.279183\n",
              "f11       0.116746\n",
              "f12       0.812020\n",
              "f13       0.809129\n",
              "f14       0.649946\n",
              "f15       0.474740\n",
              "f16       0.289494\n",
              "f17       0.119321\n",
              "f18       0.836935\n",
              "f19       0.745456\n",
              "f20       0.556472\n",
              "f21       0.384355\n",
              "f22       0.228490\n",
              "f23       0.094565\n",
              "f24       0.691686\n",
              "f25       0.623876\n",
              "f26       0.431877\n",
              "f27       0.264231\n",
              "f28       0.142697\n",
              "f29       0.044405\n",
              "f30       0.795576\n",
              "f31       0.690584\n",
              "f32       0.495698\n",
              "f33       0.303588\n",
              "f34       0.152614\n",
              "f35       0.046832\n",
              "f36       0.832101\n",
              "f37       0.724840\n",
              "f38       0.525442\n",
              "f39       0.330019\n",
              "f40       0.155936\n",
              "f41       0.042993\n",
              "target    0.662817\n",
              "dtype: float64"
            ]
          },
          "metadata": {},
          "output_type": "display_data"
        },
        {
          "name": "stdout",
          "output_type": "stream",
          "text": [
            "The variance of the features are: \n",
            "\n"
          ]
        },
        {
          "data": {
            "text/plain": [
              "f0        0.695738\n",
              "f1        0.607575\n",
              "f2        0.375348\n",
              "f3        0.200940\n",
              "f4        0.084118\n",
              "f5        0.014188\n",
              "f6        0.702496\n",
              "f7        0.630370\n",
              "f8        0.393776\n",
              "f9        0.209491\n",
              "f10       0.077943\n",
              "f11       0.013630\n",
              "f12       0.659376\n",
              "f13       0.654690\n",
              "f14       0.422429\n",
              "f15       0.225378\n",
              "f16       0.083807\n",
              "f17       0.014237\n",
              "f18       0.700460\n",
              "f19       0.555705\n",
              "f20       0.309662\n",
              "f21       0.147729\n",
              "f22       0.052208\n",
              "f23       0.008943\n",
              "f24       0.478429\n",
              "f25       0.389221\n",
              "f26       0.186518\n",
              "f27       0.069818\n",
              "f28       0.020362\n",
              "f29       0.001972\n",
              "f30       0.632941\n",
              "f31       0.476906\n",
              "f32       0.245717\n",
              "f33       0.092166\n",
              "f34       0.023291\n",
              "f35       0.002193\n",
              "f36       0.692393\n",
              "f37       0.525392\n",
              "f38       0.276089\n",
              "f39       0.108912\n",
              "f40       0.024316\n",
              "f41       0.001848\n",
              "target    0.439326\n",
              "dtype: float64"
            ]
          },
          "metadata": {},
          "output_type": "display_data"
        },
        {
          "name": "stdout",
          "output_type": "stream",
          "text": [
            "summary statistics of the dataset: \n",
            "\n"
          ]
        },
        {
          "data": {
            "text/html": [
              "<div>\n",
              "<style scoped>\n",
              "    .dataframe tbody tr th:only-of-type {\n",
              "        vertical-align: middle;\n",
              "    }\n",
              "\n",
              "    .dataframe tbody tr th {\n",
              "        vertical-align: top;\n",
              "    }\n",
              "\n",
              "    .dataframe thead th {\n",
              "        text-align: right;\n",
              "    }\n",
              "</style>\n",
              "<table border=\"1\" class=\"dataframe\">\n",
              "  <thead>\n",
              "    <tr style=\"text-align: right;\">\n",
              "      <th></th>\n",
              "      <th>f0</th>\n",
              "      <th>f1</th>\n",
              "      <th>f2</th>\n",
              "      <th>f3</th>\n",
              "      <th>f4</th>\n",
              "      <th>f5</th>\n",
              "      <th>f6</th>\n",
              "      <th>f7</th>\n",
              "      <th>f8</th>\n",
              "      <th>f9</th>\n",
              "      <th>...</th>\n",
              "      <th>f33</th>\n",
              "      <th>f34</th>\n",
              "      <th>f35</th>\n",
              "      <th>f36</th>\n",
              "      <th>f37</th>\n",
              "      <th>f38</th>\n",
              "      <th>f39</th>\n",
              "      <th>f40</th>\n",
              "      <th>f41</th>\n",
              "      <th>target</th>\n",
              "    </tr>\n",
              "  </thead>\n",
              "  <tbody>\n",
              "    <tr>\n",
              "      <th>count</th>\n",
              "      <td>40533.000000</td>\n",
              "      <td>40533.000000</td>\n",
              "      <td>40533.000000</td>\n",
              "      <td>40533.000000</td>\n",
              "      <td>40533.000000</td>\n",
              "      <td>40533.000000</td>\n",
              "      <td>40533.000000</td>\n",
              "      <td>40533.000000</td>\n",
              "      <td>40533.000000</td>\n",
              "      <td>40533.000000</td>\n",
              "      <td>...</td>\n",
              "      <td>40533.000000</td>\n",
              "      <td>40533.000000</td>\n",
              "      <td>40533.000000</td>\n",
              "      <td>40533.000000</td>\n",
              "      <td>40533.000000</td>\n",
              "      <td>40533.000000</td>\n",
              "      <td>40533.000000</td>\n",
              "      <td>40533.000000</td>\n",
              "      <td>40533.000000</td>\n",
              "      <td>40533.000000</td>\n",
              "    </tr>\n",
              "    <tr>\n",
              "      <th>mean</th>\n",
              "      <td>0.959539</td>\n",
              "      <td>0.540054</td>\n",
              "      <td>0.270890</td>\n",
              "      <td>0.131745</td>\n",
              "      <td>0.051982</td>\n",
              "      <td>0.009844</td>\n",
              "      <td>1.064269</td>\n",
              "      <td>0.582982</td>\n",
              "      <td>0.288407</td>\n",
              "      <td>0.137912</td>\n",
              "      <td>...</td>\n",
              "      <td>0.059260</td>\n",
              "      <td>0.014877</td>\n",
              "      <td>0.001604</td>\n",
              "      <td>0.838749</td>\n",
              "      <td>0.427331</td>\n",
              "      <td>0.188587</td>\n",
              "      <td>0.069992</td>\n",
              "      <td>0.016036</td>\n",
              "      <td>0.001406</td>\n",
              "      <td>1.562924</td>\n",
              "    </tr>\n",
              "    <tr>\n",
              "      <th>std</th>\n",
              "      <td>0.834109</td>\n",
              "      <td>0.779471</td>\n",
              "      <td>0.612657</td>\n",
              "      <td>0.448263</td>\n",
              "      <td>0.290031</td>\n",
              "      <td>0.119114</td>\n",
              "      <td>0.838151</td>\n",
              "      <td>0.793958</td>\n",
              "      <td>0.627516</td>\n",
              "      <td>0.457701</td>\n",
              "      <td>...</td>\n",
              "      <td>0.303588</td>\n",
              "      <td>0.152614</td>\n",
              "      <td>0.046832</td>\n",
              "      <td>0.832101</td>\n",
              "      <td>0.724840</td>\n",
              "      <td>0.525442</td>\n",
              "      <td>0.330019</td>\n",
              "      <td>0.155936</td>\n",
              "      <td>0.042993</td>\n",
              "      <td>0.662817</td>\n",
              "    </tr>\n",
              "    <tr>\n",
              "      <th>min</th>\n",
              "      <td>0.000000</td>\n",
              "      <td>0.000000</td>\n",
              "      <td>0.000000</td>\n",
              "      <td>0.000000</td>\n",
              "      <td>0.000000</td>\n",
              "      <td>0.000000</td>\n",
              "      <td>0.000000</td>\n",
              "      <td>0.000000</td>\n",
              "      <td>0.000000</td>\n",
              "      <td>0.000000</td>\n",
              "      <td>...</td>\n",
              "      <td>0.000000</td>\n",
              "      <td>0.000000</td>\n",
              "      <td>0.000000</td>\n",
              "      <td>0.000000</td>\n",
              "      <td>0.000000</td>\n",
              "      <td>0.000000</td>\n",
              "      <td>0.000000</td>\n",
              "      <td>0.000000</td>\n",
              "      <td>0.000000</td>\n",
              "      <td>0.000000</td>\n",
              "    </tr>\n",
              "    <tr>\n",
              "      <th>25%</th>\n",
              "      <td>0.000000</td>\n",
              "      <td>0.000000</td>\n",
              "      <td>0.000000</td>\n",
              "      <td>0.000000</td>\n",
              "      <td>0.000000</td>\n",
              "      <td>0.000000</td>\n",
              "      <td>0.000000</td>\n",
              "      <td>0.000000</td>\n",
              "      <td>0.000000</td>\n",
              "      <td>0.000000</td>\n",
              "      <td>...</td>\n",
              "      <td>0.000000</td>\n",
              "      <td>0.000000</td>\n",
              "      <td>0.000000</td>\n",
              "      <td>0.000000</td>\n",
              "      <td>0.000000</td>\n",
              "      <td>0.000000</td>\n",
              "      <td>0.000000</td>\n",
              "      <td>0.000000</td>\n",
              "      <td>0.000000</td>\n",
              "      <td>1.000000</td>\n",
              "    </tr>\n",
              "    <tr>\n",
              "      <th>50%</th>\n",
              "      <td>1.000000</td>\n",
              "      <td>0.000000</td>\n",
              "      <td>0.000000</td>\n",
              "      <td>0.000000</td>\n",
              "      <td>0.000000</td>\n",
              "      <td>0.000000</td>\n",
              "      <td>1.000000</td>\n",
              "      <td>0.000000</td>\n",
              "      <td>0.000000</td>\n",
              "      <td>0.000000</td>\n",
              "      <td>...</td>\n",
              "      <td>0.000000</td>\n",
              "      <td>0.000000</td>\n",
              "      <td>0.000000</td>\n",
              "      <td>1.000000</td>\n",
              "      <td>0.000000</td>\n",
              "      <td>0.000000</td>\n",
              "      <td>0.000000</td>\n",
              "      <td>0.000000</td>\n",
              "      <td>0.000000</td>\n",
              "      <td>2.000000</td>\n",
              "    </tr>\n",
              "    <tr>\n",
              "      <th>75%</th>\n",
              "      <td>2.000000</td>\n",
              "      <td>1.000000</td>\n",
              "      <td>0.000000</td>\n",
              "      <td>0.000000</td>\n",
              "      <td>0.000000</td>\n",
              "      <td>0.000000</td>\n",
              "      <td>2.000000</td>\n",
              "      <td>1.000000</td>\n",
              "      <td>0.000000</td>\n",
              "      <td>0.000000</td>\n",
              "      <td>...</td>\n",
              "      <td>0.000000</td>\n",
              "      <td>0.000000</td>\n",
              "      <td>0.000000</td>\n",
              "      <td>2.000000</td>\n",
              "      <td>1.000000</td>\n",
              "      <td>0.000000</td>\n",
              "      <td>0.000000</td>\n",
              "      <td>0.000000</td>\n",
              "      <td>0.000000</td>\n",
              "      <td>2.000000</td>\n",
              "    </tr>\n",
              "    <tr>\n",
              "      <th>max</th>\n",
              "      <td>2.000000</td>\n",
              "      <td>2.000000</td>\n",
              "      <td>2.000000</td>\n",
              "      <td>2.000000</td>\n",
              "      <td>2.000000</td>\n",
              "      <td>2.000000</td>\n",
              "      <td>2.000000</td>\n",
              "      <td>2.000000</td>\n",
              "      <td>2.000000</td>\n",
              "      <td>2.000000</td>\n",
              "      <td>...</td>\n",
              "      <td>2.000000</td>\n",
              "      <td>2.000000</td>\n",
              "      <td>2.000000</td>\n",
              "      <td>2.000000</td>\n",
              "      <td>2.000000</td>\n",
              "      <td>2.000000</td>\n",
              "      <td>2.000000</td>\n",
              "      <td>2.000000</td>\n",
              "      <td>2.000000</td>\n",
              "      <td>2.000000</td>\n",
              "    </tr>\n",
              "  </tbody>\n",
              "</table>\n",
              "<p>8 rows × 43 columns</p>\n",
              "</div>"
            ],
            "text/plain": [
              "                 f0            f1            f2            f3            f4   \n",
              "count  40533.000000  40533.000000  40533.000000  40533.000000  40533.000000  \\\n",
              "mean       0.959539      0.540054      0.270890      0.131745      0.051982   \n",
              "std        0.834109      0.779471      0.612657      0.448263      0.290031   \n",
              "min        0.000000      0.000000      0.000000      0.000000      0.000000   \n",
              "25%        0.000000      0.000000      0.000000      0.000000      0.000000   \n",
              "50%        1.000000      0.000000      0.000000      0.000000      0.000000   \n",
              "75%        2.000000      1.000000      0.000000      0.000000      0.000000   \n",
              "max        2.000000      2.000000      2.000000      2.000000      2.000000   \n",
              "\n",
              "                 f5            f6            f7            f8            f9   \n",
              "count  40533.000000  40533.000000  40533.000000  40533.000000  40533.000000  \\\n",
              "mean       0.009844      1.064269      0.582982      0.288407      0.137912   \n",
              "std        0.119114      0.838151      0.793958      0.627516      0.457701   \n",
              "min        0.000000      0.000000      0.000000      0.000000      0.000000   \n",
              "25%        0.000000      0.000000      0.000000      0.000000      0.000000   \n",
              "50%        0.000000      1.000000      0.000000      0.000000      0.000000   \n",
              "75%        0.000000      2.000000      1.000000      0.000000      0.000000   \n",
              "max        2.000000      2.000000      2.000000      2.000000      2.000000   \n",
              "\n",
              "       ...           f33           f34           f35           f36   \n",
              "count  ...  40533.000000  40533.000000  40533.000000  40533.000000  \\\n",
              "mean   ...      0.059260      0.014877      0.001604      0.838749   \n",
              "std    ...      0.303588      0.152614      0.046832      0.832101   \n",
              "min    ...      0.000000      0.000000      0.000000      0.000000   \n",
              "25%    ...      0.000000      0.000000      0.000000      0.000000   \n",
              "50%    ...      0.000000      0.000000      0.000000      1.000000   \n",
              "75%    ...      0.000000      0.000000      0.000000      2.000000   \n",
              "max    ...      2.000000      2.000000      2.000000      2.000000   \n",
              "\n",
              "                f37           f38           f39           f40           f41   \n",
              "count  40533.000000  40533.000000  40533.000000  40533.000000  40533.000000  \\\n",
              "mean       0.427331      0.188587      0.069992      0.016036      0.001406   \n",
              "std        0.724840      0.525442      0.330019      0.155936      0.042993   \n",
              "min        0.000000      0.000000      0.000000      0.000000      0.000000   \n",
              "25%        0.000000      0.000000      0.000000      0.000000      0.000000   \n",
              "50%        0.000000      0.000000      0.000000      0.000000      0.000000   \n",
              "75%        1.000000      0.000000      0.000000      0.000000      0.000000   \n",
              "max        2.000000      2.000000      2.000000      2.000000      2.000000   \n",
              "\n",
              "             target  \n",
              "count  40533.000000  \n",
              "mean       1.562924  \n",
              "std        0.662817  \n",
              "min        0.000000  \n",
              "25%        1.000000  \n",
              "50%        2.000000  \n",
              "75%        2.000000  \n",
              "max        2.000000  \n",
              "\n",
              "[8 rows x 43 columns]"
            ]
          },
          "metadata": {},
          "output_type": "display_data"
        },
        {
          "data": {
            "image/png": "[encoded data removed]",
            "text/plain": [
              "<Figure size 1440x1440 with 49 Axes>"
            ]
          },
          "metadata": {
            "needs_background": "light"
          },
          "output_type": "display_data"
        }
      ],
      "source": [
        "train_df = pd.DataFrame(data['train'])\n",
        "\n",
        "print(f\"The unique values are {np.unique(train_df)}\\n\")\n",
        "\n",
        "print('Balanced/Imbalanced check:')\n",
        "print(f\"Target 0- there are {train_df['target'].value_counts()[0]} samples\")\n",
        "print(f\"Target 1- there are {train_df['target'].value_counts()[1]} samples\")\n",
        "print(f\"Target 2- there are {train_df['target'].value_counts()[2]} samples\\n\")\n",
        "\n",
        "print(f\"The scales of the features are: \\n\")\n",
        "display(train_df.std())\n",
        "\n",
        "print(f\"The variance of the features are: \\n\")\n",
        "display(train_df.var())\n",
        "\n",
        "print(f\"summary statistics of the dataset: \\n\")\n",
        "display(train_df.describe())\n",
        "\n",
        "train_df.hist(figsize=(20, 20), bins=5)\n",
        "plt.show()"
      ]
    },
    {
      "cell_type": "code",
      "execution_count": 5,
      "metadata": {},
      "outputs": [
        {
          "data": {
            "image/png": "[encoded data removed]",
            "text/plain": [
              "<Figure size 720x576 with 2 Axes>"
            ]
          },
          "metadata": {
            "needs_background": "light"
          },
          "output_type": "display_data"
        }
      ],
      "source": [
        "correlation = train_df.corr()\n",
        "\n",
        "cmap = sns.light_palette(\"navy\", as_cmap=True)\n",
        "\n",
        "fig, ax = plt.subplots(figsize=(10, 8))\n",
        "im = ax.matshow(correlation, cmap=cmap, vmin=-1, vmax=1)\n",
        "\n",
        "fig.colorbar(im)\n",
        "ax.set_title(\"Correlation Between the Features\")\n",
        "\n",
        "plt.show()\n"
      ]
    },
    {
      "attachments": {},
      "cell_type": "markdown",
      "metadata": {},
      "source": [
        "# Selecting the model\n",
        "\n",
        "#### The models we decided to check are:\n",
        "- RandomForest\n",
        "- AdaBoost\n",
        "- KNN\n",
        "- XGB\n",
        "- SVC\n",
        "\n",
        "In order to check which model fits the best to our dataset, we will run a grid search on the different models.\n",
        "In addition, each model will run on multiple hyperparameters to improve our model selection.  "
      ]
    },
    {
      "cell_type": "code",
      "execution_count": 6,
      "metadata": {
        "id": "051egLeHQLNv"
      },
      "outputs": [],
      "source": [
        "X_train = pd.DataFrame(data['train'].iloc[:,:-1].values)\n",
        "y_train = pd.DataFrame(data['train'].iloc[:,-1:].values)\n",
        "\n",
        "X_validation = pd.DataFrame(data['dev'].iloc[:,:-1].values)\n",
        "y_validation = pd.DataFrame(data['dev'].iloc[:,-1:].values)\n",
        "\n",
        "X_test = pd.DataFrame(data['test'].iloc[:,:-1].values)\n",
        "y_test = pd.DataFrame(data['test'].iloc[:,-1:].values)"
      ]
    },
    {
      "cell_type": "code",
      "execution_count": 7,
      "metadata": {
        "id": "l1_35rstqzSL"
      },
      "outputs": [],
      "source": [
        "X_full_train = np.concatenate((X_train, X_validation), axis=0)\n",
        "y_full_train = np.concatenate((y_train, y_validation), axis=0)\n",
        "test_s = np.zeros(X_full_train.shape[0])\n",
        "test_s[:X_train.shape[0]] = -1\n",
        "predefined_split = PredefinedSplit(test_s)"
      ]
    },
    {
      "cell_type": "code",
      "execution_count": 8,
      "metadata": {
        "id": "cmCEArRWCGpJ"
      },
      "outputs": [],
      "source": [
        "models = [\n",
        "          ('RandomForest', RandomForestClassifier()), \n",
        "          ('AdaBoost', AdaBoostClassifier()),\n",
        "          ('KNN', KNeighborsClassifier()),\n",
        "          ('XGB', XGBClassifier()),\n",
        "          ('SVC', SVC())\n",
        "        ]\n",
        "\n",
        "param_grid = {\n",
        "    'RandomForest': {\n",
        "        'n_estimators': [50, 100],\n",
        "        'criterion': ['gini', 'entropy'],\n",
        "        'max_features': ['sqrt', 'log2']\n",
        "    },\n",
        "    'AdaBoost': {\n",
        "        'n_estimators': [50, 100],\n",
        "        'learning_rate': [0.1, 0.5, 1.0],\n",
        "        'algorithm': ['SAMME', 'SAMME.R']\n",
        "    },\n",
        "    'KNN': {\n",
        "        'n_neighbors': [1, 10],\n",
        "        'weights': ['uniform', 'distance'],\n",
        "        'p': [1, 2],\n",
        "        'leaf_size': [10, 50]\n",
        "    },\n",
        "    'XGB': {\n",
        "        'n_estimators': [50, 100],\n",
        "        'learning_rate': [0.1, 0.5, 1.0],\n",
        "        'max_depth': [3, 7],\n",
        "        'gamma': [0.1, 1, 5]\n",
        "    },\n",
        "    'SVC': {\n",
        "        'C': [1.0, 2.0, 3.0],\n",
        "        'kernel': ['linear', 'sigmoid'],\n",
        "        'degree': [1, 3],\n",
        "        'gamma': ['scale', 'auto']\n",
        "    }\n",
        "}\n",
        "\n",
        "scoring=['accuracy', 'f1_weighted']\n"
      ]
    },
    {
      "cell_type": "code",
      "execution_count": 9,
      "metadata": {
        "id": "6FSw_jDUC-_h"
      },
      "outputs": [],
      "source": [
        "# Define the number of parallel jobs\n",
        "num_jobs = -1  # Set to -1 to use all available cores, or specify the desired number of cores\n",
        "\n",
        "results = {}\n",
        "\n",
        "def train_model(model):\n",
        "    model_name = model[0]\n",
        "    grid_search = GridSearchCV(estimator=model[1], param_grid=param_grid[model_name], cv=predefined_split, scoring=scoring, refit='accuracy')\n",
        "    grid_search.fit(X_full_train, y_full_train)\n",
        "    best_f1_weighted_score = max(grid_search.cv_results_['mean_test_f1_weighted'])\n",
        "    best_accuracy_score = max(grid_search.cv_results_['mean_test_accuracy'])\n",
        "    return model_name, best_f1_weighted_score, best_accuracy_score\n",
        "\n",
        "results = Parallel(n_jobs=num_jobs)(delayed(train_model)(model) for model in models)\n"
      ]
    },
    {
      "cell_type": "code",
      "execution_count": 10,
      "metadata": {},
      "outputs": [],
      "source": [
        "model_results = {\n",
        "    'RandomForest': {\n",
        "        'F1 Weighted': 0.7842994234796862,\n",
        "        'Accuracy': 0.8119449378330373\n",
        "    },\n",
        "    'AdaBoost': {\n",
        "        'F1 Weighted': 0.6957792069253603,\n",
        "        'Accuracy': 0.7441533451746596\n",
        "    },\n",
        "    'KNN': {\n",
        "        'F1 Weighted': 0.7463454528927356, \n",
        "        'Accuracy': 0.7744227353463587\n",
        "    },\n",
        "    'XGB': {\n",
        "        'F1 Weighted': 0.8454657589567671, \n",
        "        'Accuracy': 0.8531675547661338\n",
        "    },\n",
        "    'SVC': {\n",
        "        'F1 Weighted': 0.5214968113378141, \n",
        "        'Accuracy': 0.6563795145056246\n",
        "    }\n",
        "}"
      ]
    },
    {
      "cell_type": "code",
      "execution_count": 11,
      "metadata": {},
      "outputs": [
        {
          "name": "stdout",
          "output_type": "stream",
          "text": [
            "Finished training model all models\n"
          ]
        }
      ],
      "source": [
        "final_result = {}\n",
        "for result in results:\n",
        "    model_name = result[0]\n",
        "    best_f1_weighted_score = result[1]\n",
        "    best_accuracy_score = result[2]\n",
        "    final_result[model_name] = {'F1 Weighted': best_f1_weighted_score, 'Accuracy': best_accuracy_score}\n",
        "print(\"Finished training model all models\")"
      ]
    },
    {
      "cell_type": "code",
      "execution_count": 12,
      "metadata": {},
      "outputs": [
        {
          "data": {
            "image/png": "[encoded data removed]",
            "text/plain": [
              "<Figure size 720x576 with 1 Axes>"
            ]
          },
          "metadata": {
            "needs_background": "light"
          },
          "output_type": "display_data"
        }
      ],
      "source": [
        "model_names = list(final_result.keys())\n",
        "f1_weighted_scores = [final_result[model]['F1 Weighted'] for model in model_names]\n",
        "accuracy_scores = [final_result[model]['Accuracy'] for model in model_names]\n",
        "fig, ax = plt.subplots(figsize=(10,8))\n",
        "\n",
        "bar_width = 0.35\n",
        "\n",
        "index = np.arange(len(model_names))\n",
        "bar1_positions = index - bar_width / 2\n",
        "bar2_positions = index + bar_width / 2\n",
        "\n",
        "plt.bar(bar1_positions, f1_weighted_scores, bar_width, label='F1 Weighted')\n",
        "\n",
        "plt.bar(bar2_positions, accuracy_scores, bar_width, label='Accuracy')\n",
        "\n",
        "plt.xticks(index, model_names)\n",
        "\n",
        "plt.xlabel('Model')\n",
        "plt.ylabel('Score')\n",
        "plt.title('Model Performance')\n",
        "\n",
        "for i, v in enumerate(f1_weighted_scores):\n",
        "    plt.text(bar1_positions[i], v + 0.01, str(round(v, 3)), ha='center', va='bottom')\n",
        "\n",
        "for i, v in enumerate(accuracy_scores):\n",
        "    plt.text(bar2_positions[i], v + 0.01, str(round(v, 3)), ha='center', va='bottom')\n",
        "\n",
        "\n",
        "plt.legend()\n",
        "\n",
        "plt.tight_layout()\n",
        "plt.show()"
      ]
    },
    {
      "attachments": {},
      "cell_type": "markdown",
      "metadata": {},
      "source": [
        "As we can see, the model with the best prediction is XGB with accuracy matric- 85.3% success"
      ]
    },
    {
      "attachments": {},
      "cell_type": "markdown",
      "metadata": {},
      "source": [
        "# Preprocessing "
      ]
    },
    {
      "cell_type": "code",
      "execution_count": 13,
      "metadata": {},
      "outputs": [],
      "source": [
        "chosen_model = XGBClassifier()\n",
        "\n",
        "XGB_param_grid = {\n",
        "    'XGB': {\n",
        "        'n_estimators': [50, 100],\n",
        "        'learning_rate': [0.1, 0.5, 1.0],\n",
        "        'max_depth': [3, 7],\n",
        "        'gamma': [0.1, 1, 5]\n",
        "    }\n",
        "}"
      ]
    },
    {
      "attachments": {},
      "cell_type": "markdown",
      "metadata": {},
      "source": [
        "#### 1. Feature Scaling\n",
        "\n",
        "first, we'll examine if scaling the features would affect the predition and how. "
      ]
    },
    {
      "cell_type": "code",
      "execution_count": 14,
      "metadata": {},
      "outputs": [],
      "source": [
        "scaler = StandardScaler()\n",
        "\n",
        "X_full_train_scaled = scaler.fit_transform(X_full_train)\n",
        "\n",
        "def train_XGB_model():\n",
        "    grid_search = GridSearchCV(estimator=chosen_model, param_grid=XGB_param_grid['XGB'], cv=predefined_split, scoring=scoring, refit='accuracy')\n",
        "    grid_search.fit(X_full_train_scaled, y_full_train)\n",
        "    scaled_best_f1_weighted_score = max(grid_search.cv_results_['mean_test_f1_weighted'])\n",
        "    scaled_best_accuracy_score = max(grid_search.cv_results_['mean_test_accuracy'])\n",
        "    return scaled_best_f1_weighted_score, scaled_best_accuracy_score\n",
        "\n",
        "scaled_results = train_XGB_model()"
      ]
    },
    {
      "cell_type": "code",
      "execution_count": 15,
      "metadata": {},
      "outputs": [
        {
          "name": "stdout",
          "output_type": "stream",
          "text": [
            "Before scaling:\n",
            "---------------\n",
            "The F1 Weighted - 0.8454657589567671\n",
            "The Accuracy - 0.8531675547661338\n",
            "\n",
            "After scaling:\n",
            "--------------\n",
            "The F1 Weighted - 0.8454657589567671\n",
            "The Accuracy - 0.8531675547661338\n"
          ]
        }
      ],
      "source": [
        "print(\"Before scaling:\")\n",
        "print(\"---------------\")\n",
        "print(f\"The F1 Weighted - {final_result['XGB']['F1 Weighted']}\")\n",
        "print(f\"The Accuracy - {final_result['XGB']['Accuracy']}\\n\")\n",
        "\n",
        "print(\"After scaling:\")\n",
        "print(\"--------------\")\n",
        "print(f\"The F1 Weighted - {scaled_results[0]}\")\n",
        "print(f\"The Accuracy - {scaled_results[1]}\")"
      ]
    },
    {
      "attachments": {},
      "cell_type": "markdown",
      "metadata": {},
      "source": [
        "As we can see, the scaling process did not change the prediction."
      ]
    },
    {
      "attachments": {},
      "cell_type": "markdown",
      "metadata": {},
      "source": [
        "#### 2. Dimensionality Reduction\n",
        "\n",
        "Now, we'll examine how reducing the number features would affect the predition. \n",
        "\n",
        "We will do so by using the method we learned to select the K best features."
      ]
    },
    {
      "cell_type": "code",
      "execution_count": 16,
      "metadata": {},
      "outputs": [],
      "source": [
        "k_features = [5,10,20,30,40,42]\n",
        "\n",
        "def train_XGB_model_with_k(k):\n",
        "    grid_search = GridSearchCV(estimator=chosen_model, param_grid=XGB_param_grid['XGB'], cv=predefined_split, scoring=scoring, refit='accuracy')\n",
        "    selector = SelectKBest(f_classif, k=k)\n",
        "    selector.fit(X_full_train, y_full_train.ravel())\n",
        "    selected_X_full_train = selector.transform(X_full_train)\n",
        "    grid_search.fit(selected_X_full_train, y_full_train)\n",
        "    k_best_f1_weighted_score = max(grid_search.cv_results_['mean_test_f1_weighted'])\n",
        "    k_best_accuracy_score = max(grid_search.cv_results_['mean_test_accuracy'])\n",
        "    return k, k_best_f1_weighted_score, k_best_accuracy_score\n",
        "\n",
        "k_results = (train_XGB_model_with_k(k) for k in k_features)"
      ]
    },
    {
      "cell_type": "code",
      "execution_count": 17,
      "metadata": {},
      "outputs": [
        {
          "name": "stdout",
          "output_type": "stream",
          "text": [
            "Finished training XGB model on all Ks\n"
          ]
        }
      ],
      "source": [
        "k_best_result = {}\n",
        "for result in k_results:\n",
        "    k_number = result[0]\n",
        "    best_f1_weighted_score = result[1]\n",
        "    best_accuracy_score = result[2]\n",
        "    k_best_result[k_number] = {'F1 Weighted': best_f1_weighted_score, 'Accuracy': best_accuracy_score}\n",
        "print(\"Finished training XGB model on all Ks\")"
      ]
    },
    {
      "cell_type": "code",
      "execution_count": 18,
      "metadata": {},
      "outputs": [
        {
          "data": {
            "image/png": "[encoded data removed]",
            "text/plain": [
              "<Figure size 720x576 with 1 Axes>"
            ]
          },
          "metadata": {
            "needs_background": "light"
          },
          "output_type": "display_data"
        }
      ],
      "source": [
        "k_f1_weighted_scores = [k_best_result[k]['F1 Weighted'] for k in k_features]\n",
        "k_accuracy_scores = [k_best_result[k]['Accuracy'] for k in k_features]\n",
        "fig, ax = plt.subplots(figsize=(10,8))\n",
        "\n",
        "bar_width = 0.35\n",
        "\n",
        "index = np.arange(len(k_features))\n",
        "bar1_positions = index - bar_width / 2\n",
        "bar2_positions = index + bar_width / 2\n",
        "\n",
        "plt.bar(bar1_positions, k_f1_weighted_scores, bar_width, label='F1 Weighted')\n",
        "\n",
        "plt.bar(bar2_positions, k_accuracy_scores, bar_width, label='Accuracy')\n",
        "\n",
        "plt.xticks(index, k_features)\n",
        "\n",
        "plt.xlabel('K features')\n",
        "plt.ylabel('Score')\n",
        "plt.title('Model Performance on different chosen features')\n",
        "\n",
        "for i, v in enumerate(k_f1_weighted_scores):\n",
        "    plt.text(bar1_positions[i], v + 0.01, str(round(v, 3)), ha='center', va='bottom')\n",
        "\n",
        "for i, v in enumerate(k_accuracy_scores):\n",
        "    plt.text(bar2_positions[i], v + 0.01, str(round(v, 3)), ha='center', va='bottom')\n",
        "\n",
        "\n",
        "plt.legend()\n",
        "\n",
        "plt.tight_layout()\n",
        "plt.show()"
      ]
    },
    {
      "attachments": {},
      "cell_type": "markdown",
      "metadata": {},
      "source": [
        "In the graph above we can see that our model performs better as the number of K best feature grows."
      ]
    },
    {
      "attachments": {},
      "cell_type": "markdown",
      "metadata": {},
      "source": [
        "# The metrics\n",
        "\n",
        "#### We decided to use 2 different metrics:\n",
        "\n",
        "##### 1. F1 Weighted Score:\n",
        "The F1 weighted score is a metric that combines precision and recall for multi-class classification tasks. It calculates the average F1 score, giving more weight to classes with higher support, providing an overall assessment of the model's performance while accounting for class imbalance. It's a useful metric to evaluate classification models on imbalanced datasets.\n",
        "\n",
        "##### 2. Accuracy Score:\n",
        "Accuracy is a commonly used metric to evaluate classification models. It measures the proportion of correctly predicted samples out of the total samples in the dataset. It provides a general indication of the model's overall correctness. However, accuracy may not be suitable for imbalanced datasets as it can be biased towards the majority class and overlook minority classes.\n",
        "\n",
        "\n",
        "\n"
      ]
    },
    {
      "attachments": {},
      "cell_type": "markdown",
      "metadata": {},
      "source": [
        "\n",
        "\n",
        "It is interesting to examine both metrics results because of the fact that our dataset is imbalanced.\n",
        "\n",
        "F1 Weighted metric is a useful metric for imbalanced datasets, while the Accuracy metric may not be the best fit for imbalanced datasets.\n",
        "\n",
        "Our initial hypothesis is F1 Weighted metric would perform better results."
      ]
    },
    {
      "attachments": {},
      "cell_type": "markdown",
      "metadata": {},
      "source": [
        "# Hyperparameter search\n",
        "\n",
        "After we have selected our model with a little hyperparameter flexibility, we will now run an extensive hyperparameter search.\n",
        "\n",
        "As discribed above, the Accuracy metric performed better than F1 Weighted metric, so we'll be using this metric.\n",
        "\n",
        "We viewed many of the XGB hyperparameters and decided to focus on optimizing the hyperparameters below.\n",
        "\n",
        "#### XGB Hyperparameters:\n",
        "- n_estimators\n",
        "- learning_rate\n",
        "- max_depth\n",
        "- subsample\n",
        "- gamma\n",
        "- reg_lambda\n",
        "- min_child_weight\n",
        "\n",
        "\n"
      ]
    },
    {
      "cell_type": "code",
      "execution_count": 19,
      "metadata": {},
      "outputs": [],
      "source": [
        "chosen_model = XGBClassifier()\n",
        "\n",
        "XGB_hyperparam_grid = {\n",
        "    'n_estimators': [50, 100 , 200 , 500, 800, 1000],\n",
        "    'learning_rate': [0.1, 0.2, 0.25, 0.3, 0.35, 0.5],\n",
        "    'max_depth': [3, 5, 7, 10, 15],\n",
        "    'subsample' : [0.1, 0.3, 0.5, 0.8, 1],\n",
        "    'gamma': [0.1, 0.3, 0.5, 1, 3, 5],\n",
        "    'reg_lambda' : [0.1, 0.5, 1, 3, 5, 7, 9],\n",
        "    'min_child_weight': [1, 3, 5, 8, 10, 15]\n",
        "}"
      ]
    },
    {
      "cell_type": "code",
      "execution_count": 20,
      "metadata": {},
      "outputs": [],
      "source": [
        "X_full_train = np.concatenate((X_train, X_validation), axis=0)\n",
        "y_full_train = np.concatenate((y_train, y_validation), axis=0)\n",
        "test_s = np.zeros(X_full_train.shape[0])\n",
        "test_s[:X_train.shape[0]] = -1\n",
        "predefined_split = PredefinedSplit(test_s)"
      ]
    },
    {
      "cell_type": "code",
      "execution_count": 21,
      "metadata": {},
      "outputs": [
        {
          "name": "stdout",
          "output_type": "stream",
          "text": [
            "Best Hyperparameters: {'subsample': 0.5, 'reg_lambda': 9, 'n_estimators': 1000, 'min_child_weight': 15, 'max_depth': 10, 'learning_rate': 0.3, 'gamma': 1}\n",
            "Best Score: 0.8533895796329188\n"
          ]
        }
      ],
      "source": [
        "random_search = RandomizedSearchCV(\n",
        "    estimator=chosen_model,\n",
        "    param_distributions=XGB_hyperparam_grid,\n",
        "    scoring='accuracy',\n",
        "    n_iter=10,  \n",
        "    cv=predefined_split,\n",
        "    random_state=42\n",
        ")\n",
        "\n",
        "random_search.fit(X_full_train, y_full_train)\n",
        "\n",
        "print(\"Best Hyperparameters:\", random_search.best_params_)\n",
        "print(\"Best Score:\", random_search.best_score_)"
      ]
    },
    {
      "attachments": {},
      "cell_type": "markdown",
      "metadata": {},
      "source": [
        "# Testing our work on test set"
      ]
    },
    {
      "cell_type": "code",
      "execution_count": 22,
      "metadata": {},
      "outputs": [
        {
          "name": "stdout",
          "output_type": "stream",
          "text": [
            "Test Accuracy score: 0.8532415630550622\n",
            "Test F1 weighted score: 0.8438885176246786\n"
          ]
        }
      ],
      "source": [
        "test_model = XGBClassifier(**random_search.best_params_)\n",
        "test_model.fit(X_full_train, y_full_train)\n",
        "y_pred = test_model.predict(X_test)\n",
        "acc_score = accuracy_score(y_test, y_pred)\n",
        "f1_weighted_score = f1_score(y_test, y_pred, average='weighted')\n",
        "print(f\"Test Accuracy score: {acc_score}\")\n",
        "print(f\"Test F1 weighted score: {f1_weighted_score}\")\n"
      ]
    }
  ],
  "metadata": {
    "colab": {
      "provenance": []
    },
    "kernelspec": {
      "display_name": "Python 3",
      "name": "python3"
    },
    "language_info": {
      "codemirror_mode": {
        "name": "ipython",
        "version": 3
      },
      "file_extension": ".py",
      "mimetype": "text/x-python",
      "name": "python",
      "nbconvert_exporter": "python",
      "pygments_lexer": "ipython3",
      "version": "3.11.0"
    }
  },
  "nbformat": 4,
  "nbformat_minor": 0
}
